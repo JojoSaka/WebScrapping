{
 "cells": [
  {
   "cell_type": "markdown",
   "metadata": {},
   "source": [
    "# Project Guide: Event Details Scraping\n",
    "\n"
   ]
  },
  {
   "cell_type": "markdown",
   "metadata": {},
   "source": [
    "## Overview\n",
    "This project guide will walk you through the process of scraping event details, including date, time, venue, images, and URL links, from a website. We'll be using Python along with the BeautifulSoup and Requests libraries for web scraping."
   ]
  },
  {
   "cell_type": "markdown",
   "metadata": {},
   "source": [
    "## Skills required\n",
    "- Basic knowledge of Python programming\n",
    "\n",
    "- Familiarity with HTML structure"
   ]
  },
  {
   "cell_type": "markdown",
   "metadata": {},
   "source": [
    "## Tools and Libraries\n",
    "- Python version suitable\n",
    "- BeautifulSoup4\n",
    "- Requests\n",
    "- Pandas"
   ]
  },
  {
   "cell_type": "markdown",
   "metadata": {},
   "source": [
    "Importing the necessary libraries"
   ]
  },
  {
   "cell_type": "code",
   "execution_count": 3,
   "metadata": {},
   "outputs": [],
   "source": [
    "import requests"
   ]
  },
  {
   "cell_type": "code",
   "execution_count": 4,
   "metadata": {},
   "outputs": [],
   "source": [
    "from bs4 import BeautifulSoup"
   ]
  },
  {
   "cell_type": "markdown",
   "metadata": {},
   "source": [
    "Selecting a website to scrape event details. Ensuring that scraping is allowed by checking the website's \"robots.txt\" file."
   ]
  },
  {
   "cell_type": "code",
   "execution_count": 5,
   "metadata": {},
   "outputs": [],
   "source": [
    "#The website's url is saved in a variable \n",
    "events_url = \"https://egotickets.com/events\""
   ]
  },
  {
   "cell_type": "markdown",
   "metadata": {},
   "source": [
    "Using the Requests library to send an HTTP request and get the HTML content of the webpage"
   ]
  },
  {
   "cell_type": "code",
   "execution_count": 6,
   "metadata": {},
   "outputs": [],
   "source": [
    "#The contents of the webpage are saved into the variable page_contents\n",
    "page_contents = requests.get(events_url)"
   ]
  },
  {
   "cell_type": "code",
   "execution_count": null,
   "metadata": {},
   "outputs": [],
   "source": [
    "#Checking the status code of the html content to verify that it is equal to 200\n",
    "page_contents.status_code"
   ]
  },
  {
   "cell_type": "markdown",
   "metadata": {},
   "source": [
    "Create a BeautifulSoup object to parse the HTML content"
   ]
  },
  {
   "cell_type": "code",
   "execution_count": 7,
   "metadata": {},
   "outputs": [],
   "source": [
    "#Parsing the html content to the variable doc\n",
    "doc = BeautifulSoup(page_contents.text, 'html.parser')"
   ]
  },
  {
   "cell_type": "code",
   "execution_count": 6,
   "metadata": {},
   "outputs": [
    {
     "data": {
      "text/plain": [
       "148857"
      ]
     },
     "execution_count": 6,
     "metadata": {},
     "output_type": "execute_result"
    }
   ],
   "source": [
    "len(page_contents.text)"
   ]
  },
  {
   "cell_type": "markdown",
   "metadata": {},
   "source": [
    "## Scraping for the event name "
   ]
  },
  {
   "cell_type": "code",
   "execution_count": 9,
   "metadata": {},
   "outputs": [],
   "source": [
    "#Inspecting the html cibtebts to find the html tags cintaining the event names\n",
    "h3_tags = doc.find_all('h3', {'class': \"title uk-text-nowrap uk-text-truncate\"})"
   ]
  },
  {
   "cell_type": "code",
   "execution_count": 63,
   "metadata": {},
   "outputs": [
    {
     "data": {
      "text/plain": [
       "20"
      ]
     },
     "execution_count": 63,
     "metadata": {},
     "output_type": "execute_result"
    }
   ],
   "source": [
    "len(h3_tags)"
   ]
  },
  {
   "cell_type": "code",
   "execution_count": 11,
   "metadata": {},
   "outputs": [
    {
     "data": {
      "text/plain": [
       "<h3 class=\"title uk-text-nowrap uk-text-truncate\"><a href=\"/events/naturopathic-clinician-training-ghana-145367aa\" title=\"Naturopathic Clinician Training - Ghana\">Naturopathic Clinician Training - Ghana</a></h3>"
      ]
     },
     "execution_count": 11,
     "metadata": {},
     "output_type": "execute_result"
    }
   ],
   "source": [
    "#Printing out the first event tag to verify that it contains the event name\n",
    "h3_tags[0]"
   ]
  },
  {
   "cell_type": "code",
   "execution_count": 12,
   "metadata": {},
   "outputs": [
    {
     "data": {
      "text/plain": [
       "'Naturopathic Clinician Training - Ghana'"
      ]
     },
     "execution_count": 12,
     "metadata": {},
     "output_type": "execute_result"
    }
   ],
   "source": [
    "h3_tags[0].text"
   ]
  },
  {
   "cell_type": "code",
   "execution_count": 13,
   "metadata": {},
   "outputs": [],
   "source": [
    "#Saving the event names into a list named as event_names\n",
    "events_names = []\n",
    "for i in range(0,20):\n",
    "    event_name = h3_tags[i].text\n",
    "    events_names.append(event_name)"
   ]
  },
  {
   "cell_type": "markdown",
   "metadata": {},
   "source": [
    "## Scraping for the event venue"
   ]
  },
  {
   "cell_type": "code",
   "execution_count": 15,
   "metadata": {},
   "outputs": [],
   "source": [
    "#Inspecting the html cibtebts to find the html tags cintaining the event venues\n",
    "div_tags = doc.find_all('div', {'class' : \"venue\"})"
   ]
  },
  {
   "cell_type": "code",
   "execution_count": 17,
   "metadata": {},
   "outputs": [
    {
     "data": {
      "text/plain": [
       "<div class=\"venue\">\n",
       "<span>Ghana</span>\n",
       "</div>"
      ]
     },
     "execution_count": 17,
     "metadata": {},
     "output_type": "execute_result"
    }
   ],
   "source": [
    "#Printing out the first event tag to verify that it contains the event venue\n",
    "div_tags[0]"
   ]
  },
  {
   "cell_type": "code",
   "execution_count": 18,
   "metadata": {},
   "outputs": [
    {
     "data": {
      "text/plain": [
       "'Ghana'"
      ]
     },
     "execution_count": 18,
     "metadata": {},
     "output_type": "execute_result"
    }
   ],
   "source": [
    "div_tags[0].text.strip()"
   ]
  },
  {
   "cell_type": "code",
   "execution_count": 19,
   "metadata": {},
   "outputs": [],
   "source": [
    "#Saving the event names into a list named as event_venues\n",
    "events_venues = []\n",
    "for i in range(0,20):\n",
    "    event_venue = div_tags[i].text.strip()\n",
    "    events_venues.append(event_venue)"
   ]
  },
  {
   "cell_type": "markdown",
   "metadata": {},
   "source": [
    "## Scraping for the event details url"
   ]
  },
  {
   "cell_type": "code",
   "execution_count": 20,
   "metadata": {},
   "outputs": [],
   "source": [
    "#Inspecting the html cibtebts to find the html tags cintaining the event details url\n",
    "a_tags = h3_tags[0].find_all('a')"
   ]
  },
  {
   "cell_type": "code",
   "execution_count": 21,
   "metadata": {},
   "outputs": [
    {
     "data": {
      "text/plain": [
       "1"
      ]
     },
     "execution_count": 21,
     "metadata": {},
     "output_type": "execute_result"
    }
   ],
   "source": [
    "len(a_tags)"
   ]
  },
  {
   "cell_type": "code",
   "execution_count": 22,
   "metadata": {},
   "outputs": [],
   "source": [
    "event_link = a_tags[0]['href']"
   ]
  },
  {
   "cell_type": "code",
   "execution_count": 23,
   "metadata": {},
   "outputs": [],
   "source": [
    "base_url = 'https://egotickets.com'"
   ]
  },
  {
   "cell_type": "code",
   "execution_count": 24,
   "metadata": {},
   "outputs": [
    {
     "data": {
      "text/plain": [
       "'https://egotickets.com/events/naturopathic-clinician-training-ghana-145367aa'"
      ]
     },
     "execution_count": 24,
     "metadata": {},
     "output_type": "execute_result"
    }
   ],
   "source": [
    "base_url + event_link"
   ]
  },
  {
   "cell_type": "code",
   "execution_count": 62,
   "metadata": {},
   "outputs": [],
   "source": [
    "#Using a for loop to extract all event urls\n",
    "events_details_url = []\n",
    "for i in range(0,20):\n",
    "    a_tag = h3_tags[i].find_all('a')\n",
    "    event_details = base_url + a_tag[0]['href']\n",
    "    events_details_url.append(event_details)"
   ]
  },
  {
   "cell_type": "code",
   "execution_count": 26,
   "metadata": {},
   "outputs": [
    {
     "data": {
      "text/plain": [
       "['https://egotickets.com/events/naturopathic-clinician-training-ghana-145367aa',\n",
       " 'https://egotickets.com/events/reflecting-re-engaging-and-re-imagining-higher-education-pedagogy',\n",
       " 'https://egotickets.com/events/happy-hour-nouveau',\n",
       " 'https://egotickets.com/events/apostolic-invasion',\n",
       " 'https://egotickets.com/events/happy-hour-35189',\n",
       " 'https://egotickets.com/events/ladies-night-bc788cdd',\n",
       " 'https://egotickets.com/events/splash-bash',\n",
       " 'https://egotickets.com/events/clock-out-wednesday',\n",
       " 'https://egotickets.com/events/one-love-wednesday',\n",
       " 'https://egotickets.com/events/y2k-anight-of-rhythms',\n",
       " 'https://egotickets.com/events/games-night-36464',\n",
       " 'https://egotickets.com/events/karoake-night-35473',\n",
       " 'https://egotickets.com/events/naked-hennessy',\n",
       " 'https://egotickets.com/events/women-of-valour-official-lunch',\n",
       " 'https://egotickets.com/events/sip-and-paint-happening-every-thursday-35009',\n",
       " 'https://egotickets.com/events/roots-culture-every-thursday',\n",
       " 'https://egotickets.com/events/live-sessions-featuring-brymo',\n",
       " 'https://egotickets.com/events/hot-tub-thursdays-9a183e39',\n",
       " 'https://egotickets.com/events/games-night-e74d1085',\n",
       " 'https://egotickets.com/events/karoake-party']"
      ]
     },
     "execution_count": 26,
     "metadata": {},
     "output_type": "execute_result"
    }
   ],
   "source": [
    "events_details_url"
   ]
  },
  {
   "cell_type": "code",
   "execution_count": 27,
   "metadata": {},
   "outputs": [],
   "source": [
    "#Creating a dictionary using the details saved so far\n",
    "events_dict = {\n",
    "    'Event Name' : events_names,\n",
    "    'Event Venue' : events_venues,\n",
    "    'Event Details Url': events_details_url\n",
    "}"
   ]
  },
  {
   "cell_type": "code",
   "execution_count": 28,
   "metadata": {},
   "outputs": [],
   "source": [
    "#I,porting pandas to convert the dictionary into a dataframe\n",
    "import pandas as pd"
   ]
  },
  {
   "cell_type": "code",
   "execution_count": 30,
   "metadata": {},
   "outputs": [],
   "source": [
    "df = pd.DataFrame(events_dict)"
   ]
  },
  {
   "cell_type": "code",
   "execution_count": 31,
   "metadata": {},
   "outputs": [
    {
     "data": {
      "text/html": [
       "<div>\n",
       "<style scoped>\n",
       "    .dataframe tbody tr th:only-of-type {\n",
       "        vertical-align: middle;\n",
       "    }\n",
       "\n",
       "    .dataframe tbody tr th {\n",
       "        vertical-align: top;\n",
       "    }\n",
       "\n",
       "    .dataframe thead th {\n",
       "        text-align: right;\n",
       "    }\n",
       "</style>\n",
       "<table border=\"1\" class=\"dataframe\">\n",
       "  <thead>\n",
       "    <tr style=\"text-align: right;\">\n",
       "      <th></th>\n",
       "      <th>Event Name</th>\n",
       "      <th>Event Venue</th>\n",
       "      <th>Event Details Url</th>\n",
       "    </tr>\n",
       "  </thead>\n",
       "  <tbody>\n",
       "    <tr>\n",
       "      <th>0</th>\n",
       "      <td>Naturopathic Clinician Training - Ghana</td>\n",
       "      <td>Ghana</td>\n",
       "      <td>https://egotickets.com/events/naturopathic-cli...</td>\n",
       "    </tr>\n",
       "    <tr>\n",
       "      <th>1</th>\n",
       "      <td>Reflecting, Re-Engaging and Re-Imagining Highe...</td>\n",
       "      <td>University of Ghana</td>\n",
       "      <td>https://egotickets.com/events/reflecting-re-en...</td>\n",
       "    </tr>\n",
       "    <tr>\n",
       "      <th>2</th>\n",
       "      <td>HAPPY HOUR NOUVEAU</td>\n",
       "      <td>Nouveau Accra</td>\n",
       "      <td>https://egotickets.com/events/happy-hour-nouveau</td>\n",
       "    </tr>\n",
       "    <tr>\n",
       "      <th>3</th>\n",
       "      <td>Apostolic Invasion</td>\n",
       "      <td>Spintex, Accra,Accra, Ghana</td>\n",
       "      <td>https://egotickets.com/events/apostolic-invasion</td>\n",
       "    </tr>\n",
       "    <tr>\n",
       "      <th>4</th>\n",
       "      <td>Happy Hour</td>\n",
       "      <td>Lupita Ghana</td>\n",
       "      <td>https://egotickets.com/events/happy-hour-35189</td>\n",
       "    </tr>\n",
       "    <tr>\n",
       "      <th>5</th>\n",
       "      <td>LADIES NIGHT.</td>\n",
       "      <td>Mtn Ghana East Legon Branch</td>\n",
       "      <td>https://egotickets.com/events/ladies-night-bc7...</td>\n",
       "    </tr>\n",
       "    <tr>\n",
       "      <th>6</th>\n",
       "      <td>SPLASH BASH</td>\n",
       "      <td>Offline Lounge</td>\n",
       "      <td>https://egotickets.com/events/splash-bash</td>\n",
       "    </tr>\n",
       "    <tr>\n",
       "      <th>7</th>\n",
       "      <td>Clock out wednesday</td>\n",
       "      <td>Sixteen Hundred Bar &amp; Lounge</td>\n",
       "      <td>https://egotickets.com/events/clock-out-wednesday</td>\n",
       "    </tr>\n",
       "    <tr>\n",
       "      <th>8</th>\n",
       "      <td>One Love Wednesday</td>\n",
       "      <td>Laboma Beach</td>\n",
       "      <td>https://egotickets.com/events/one-love-wednesday</td>\n",
       "    </tr>\n",
       "    <tr>\n",
       "      <th>9</th>\n",
       "      <td>Y2K (Anight of Rhythms)</td>\n",
       "      <td>355 Restaurant and Lounge, Labone - A...</td>\n",
       "      <td>https://egotickets.com/events/y2k-anight-of-rh...</td>\n",
       "    </tr>\n",
       "    <tr>\n",
       "      <th>10</th>\n",
       "      <td>Games Night</td>\n",
       "      <td>Junction 5 Lounge</td>\n",
       "      <td>https://egotickets.com/events/games-night-36464</td>\n",
       "    </tr>\n",
       "    <tr>\n",
       "      <th>11</th>\n",
       "      <td>Karoake Night</td>\n",
       "      <td>Krom Pub</td>\n",
       "      <td>https://egotickets.com/events/karoake-night-35473</td>\n",
       "    </tr>\n",
       "    <tr>\n",
       "      <th>12</th>\n",
       "      <td>Naked Hennessy</td>\n",
       "      <td>Signature Lounge</td>\n",
       "      <td>https://egotickets.com/events/naked-hennessy</td>\n",
       "    </tr>\n",
       "    <tr>\n",
       "      <th>13</th>\n",
       "      <td>WOMEN OF VALOUR OFFICIAL LUNCH</td>\n",
       "      <td>Accra</td>\n",
       "      <td>https://egotickets.com/events/women-of-valour-...</td>\n",
       "    </tr>\n",
       "    <tr>\n",
       "      <th>14</th>\n",
       "      <td>SIP AND PAINT (HAPPENING EVERY THURSDAY)</td>\n",
       "      <td>Grind &amp; Aroma</td>\n",
       "      <td>https://egotickets.com/events/sip-and-paint-ha...</td>\n",
       "    </tr>\n",
       "    <tr>\n",
       "      <th>15</th>\n",
       "      <td>Roots &amp; Culture (Every Thursday)</td>\n",
       "      <td>Monte Carlo</td>\n",
       "      <td>https://egotickets.com/events/roots-culture-ev...</td>\n",
       "    </tr>\n",
       "    <tr>\n",
       "      <th>16</th>\n",
       "      <td>Live Sessions Featuring BRYMO</td>\n",
       "      <td>Rooftop Lekki Chinese Restaurant</td>\n",
       "      <td>https://egotickets.com/events/live-sessions-fe...</td>\n",
       "    </tr>\n",
       "    <tr>\n",
       "      <th>17</th>\n",
       "      <td>HOT TUB THURSDAYS</td>\n",
       "      <td>Hermanos Jungle</td>\n",
       "      <td>https://egotickets.com/events/hot-tub-thursday...</td>\n",
       "    </tr>\n",
       "    <tr>\n",
       "      <th>18</th>\n",
       "      <td>GAMES NIGHT</td>\n",
       "      <td>BIG LEAGUES SPORTS AND GAMES LOUNGE</td>\n",
       "      <td>https://egotickets.com/events/games-night-e74d...</td>\n",
       "    </tr>\n",
       "    <tr>\n",
       "      <th>19</th>\n",
       "      <td>Karoake Party</td>\n",
       "      <td>THE WOODS</td>\n",
       "      <td>https://egotickets.com/events/karoake-party</td>\n",
       "    </tr>\n",
       "  </tbody>\n",
       "</table>\n",
       "</div>"
      ],
      "text/plain": [
       "                                           Event Name  \\\n",
       "0             Naturopathic Clinician Training - Ghana   \n",
       "1   Reflecting, Re-Engaging and Re-Imagining Highe...   \n",
       "2                                  HAPPY HOUR NOUVEAU   \n",
       "3                                  Apostolic Invasion   \n",
       "4                                          Happy Hour   \n",
       "5                                       LADIES NIGHT.   \n",
       "6                                         SPLASH BASH   \n",
       "7                                 Clock out wednesday   \n",
       "8                                  One Love Wednesday   \n",
       "9                             Y2K (Anight of Rhythms)   \n",
       "10                                        Games Night   \n",
       "11                                      Karoake Night   \n",
       "12                                     Naked Hennessy   \n",
       "13                     WOMEN OF VALOUR OFFICIAL LUNCH   \n",
       "14           SIP AND PAINT (HAPPENING EVERY THURSDAY)   \n",
       "15                   Roots & Culture (Every Thursday)   \n",
       "16                      Live Sessions Featuring BRYMO   \n",
       "17                                  HOT TUB THURSDAYS   \n",
       "18                                        GAMES NIGHT   \n",
       "19                                      Karoake Party   \n",
       "\n",
       "                                 Event Venue  \\\n",
       "0                                      Ghana   \n",
       "1                        University of Ghana   \n",
       "2                              Nouveau Accra   \n",
       "3                Spintex, Accra,Accra, Ghana   \n",
       "4                               Lupita Ghana   \n",
       "5                Mtn Ghana East Legon Branch   \n",
       "6                             Offline Lounge   \n",
       "7               Sixteen Hundred Bar & Lounge   \n",
       "8                               Laboma Beach   \n",
       "9   355 Restaurant and Lounge, Labone - A...   \n",
       "10                         Junction 5 Lounge   \n",
       "11                                  Krom Pub   \n",
       "12                          Signature Lounge   \n",
       "13                                     Accra   \n",
       "14                             Grind & Aroma   \n",
       "15                               Monte Carlo   \n",
       "16          Rooftop Lekki Chinese Restaurant   \n",
       "17                           Hermanos Jungle   \n",
       "18       BIG LEAGUES SPORTS AND GAMES LOUNGE   \n",
       "19                                 THE WOODS   \n",
       "\n",
       "                                    Event Details Url  \n",
       "0   https://egotickets.com/events/naturopathic-cli...  \n",
       "1   https://egotickets.com/events/reflecting-re-en...  \n",
       "2    https://egotickets.com/events/happy-hour-nouveau  \n",
       "3    https://egotickets.com/events/apostolic-invasion  \n",
       "4      https://egotickets.com/events/happy-hour-35189  \n",
       "5   https://egotickets.com/events/ladies-night-bc7...  \n",
       "6           https://egotickets.com/events/splash-bash  \n",
       "7   https://egotickets.com/events/clock-out-wednesday  \n",
       "8    https://egotickets.com/events/one-love-wednesday  \n",
       "9   https://egotickets.com/events/y2k-anight-of-rh...  \n",
       "10    https://egotickets.com/events/games-night-36464  \n",
       "11  https://egotickets.com/events/karoake-night-35473  \n",
       "12       https://egotickets.com/events/naked-hennessy  \n",
       "13  https://egotickets.com/events/women-of-valour-...  \n",
       "14  https://egotickets.com/events/sip-and-paint-ha...  \n",
       "15  https://egotickets.com/events/roots-culture-ev...  \n",
       "16  https://egotickets.com/events/live-sessions-fe...  \n",
       "17  https://egotickets.com/events/hot-tub-thursday...  \n",
       "18  https://egotickets.com/events/games-night-e74d...  \n",
       "19        https://egotickets.com/events/karoake-party  "
      ]
     },
     "execution_count": 31,
     "metadata": {},
     "output_type": "execute_result"
    }
   ],
   "source": [
    "df"
   ]
  },
  {
   "cell_type": "markdown",
   "metadata": {},
   "source": [
    "## Functions that scrape the events' website to collect the events names, venues and the links to the individual websites of the events"
   ]
  },
  {
   "cell_type": "code",
   "execution_count": 32,
   "metadata": {},
   "outputs": [],
   "source": [
    "import requests \n",
    "from bs4 import BeautifulSoup\n",
    "\n",
    "def get_events():\n",
    "    events_url = 'https://egotickets.com/events'\n",
    "    response = requests.get(events_url)\n",
    "    if response.status_code != 200:\n",
    "        raise Exception('Failed to load page: {}'.format(events_url))\n",
    "    doc = BeautifulSoup(response.text, 'html.parser')\n",
    "    return doc"
   ]
  },
  {
   "cell_type": "code",
   "execution_count": 33,
   "metadata": {},
   "outputs": [],
   "source": [
    "def get_event_names():\n",
    "    h3_tags = doc.find_all('h3', {'class': \"title uk-text-nowrap uk-text-truncate\"})\n",
    "    events_names = []\n",
    "    for i in range(0,20):\n",
    "        event_name = h3_tags[i].text\n",
    "        events_names.append(event_name)\n",
    "    return events_names"
   ]
  },
  {
   "cell_type": "code",
   "execution_count": 34,
   "metadata": {},
   "outputs": [
    {
     "data": {
      "text/plain": [
       "['Naturopathic Clinician Training - Ghana',\n",
       " 'Reflecting, Re-Engaging and Re-Imagining Higher Education  Pedagogy',\n",
       " 'HAPPY HOUR NOUVEAU',\n",
       " 'Apostolic Invasion',\n",
       " 'Happy Hour',\n",
       " 'LADIES NIGHT.',\n",
       " 'SPLASH BASH',\n",
       " 'Clock out wednesday',\n",
       " 'One Love Wednesday',\n",
       " 'Y2K (Anight of Rhythms)',\n",
       " 'Games Night',\n",
       " 'Karoake Night',\n",
       " 'Naked Hennessy',\n",
       " 'WOMEN OF VALOUR OFFICIAL LUNCH',\n",
       " 'SIP AND PAINT (HAPPENING EVERY THURSDAY)',\n",
       " 'Roots & Culture (Every Thursday)',\n",
       " 'Live Sessions Featuring BRYMO',\n",
       " 'HOT TUB THURSDAYS',\n",
       " 'GAMES NIGHT',\n",
       " 'Karoake Party']"
      ]
     },
     "execution_count": 34,
     "metadata": {},
     "output_type": "execute_result"
    }
   ],
   "source": [
    "get_event_names()"
   ]
  },
  {
   "cell_type": "code",
   "execution_count": 35,
   "metadata": {},
   "outputs": [],
   "source": [
    "def get_event_venues():\n",
    "    div_tags = doc.find_all('div', {'class' : \"venue\"})\n",
    "    events_venues = []\n",
    "    for i in range(0,20):\n",
    "        event_venue = div_tags[i].text.strip()\n",
    "        events_venues.append(event_venue)\n",
    "    return events_venues"
   ]
  },
  {
   "cell_type": "code",
   "execution_count": 36,
   "metadata": {},
   "outputs": [
    {
     "data": {
      "text/plain": [
       "['Ghana',\n",
       " 'University of Ghana',\n",
       " 'Nouveau Accra',\n",
       " 'Spintex, Accra,Accra, Ghana',\n",
       " 'Lupita Ghana',\n",
       " 'Mtn Ghana East Legon Branch',\n",
       " 'Offline Lounge',\n",
       " 'Sixteen Hundred Bar & Lounge',\n",
       " 'Laboma Beach',\n",
       " '355 Restaurant and Lounge, Labone - A...',\n",
       " 'Junction 5 Lounge',\n",
       " 'Krom Pub',\n",
       " 'Signature Lounge',\n",
       " 'Accra',\n",
       " 'Grind & Aroma',\n",
       " 'Monte Carlo',\n",
       " 'Rooftop Lekki Chinese Restaurant',\n",
       " 'Hermanos Jungle',\n",
       " 'BIG LEAGUES SPORTS AND GAMES LOUNGE',\n",
       " 'THE WOODS']"
      ]
     },
     "execution_count": 36,
     "metadata": {},
     "output_type": "execute_result"
    }
   ],
   "source": [
    "get_event_venues()"
   ]
  },
  {
   "cell_type": "code",
   "execution_count": 37,
   "metadata": {},
   "outputs": [],
   "source": [
    "def get_event_details_url():\n",
    "    base_url = 'https://egotickets.com'\n",
    "    events_details_url = []\n",
    "    for i in range(0,20):\n",
    "        a_tag = h3_tags[i].find_all('a')\n",
    "        event_details = base_url + a_tag[0]['href']\n",
    "        events_details_url.append(event_details)\n",
    "    return events_details_url"
   ]
  },
  {
   "cell_type": "code",
   "execution_count": 38,
   "metadata": {},
   "outputs": [
    {
     "data": {
      "text/plain": [
       "['https://egotickets.com/events/naturopathic-clinician-training-ghana-145367aa',\n",
       " 'https://egotickets.com/events/reflecting-re-engaging-and-re-imagining-higher-education-pedagogy',\n",
       " 'https://egotickets.com/events/happy-hour-nouveau',\n",
       " 'https://egotickets.com/events/apostolic-invasion',\n",
       " 'https://egotickets.com/events/happy-hour-35189',\n",
       " 'https://egotickets.com/events/ladies-night-bc788cdd',\n",
       " 'https://egotickets.com/events/splash-bash',\n",
       " 'https://egotickets.com/events/clock-out-wednesday',\n",
       " 'https://egotickets.com/events/one-love-wednesday',\n",
       " 'https://egotickets.com/events/y2k-anight-of-rhythms',\n",
       " 'https://egotickets.com/events/games-night-36464',\n",
       " 'https://egotickets.com/events/karoake-night-35473',\n",
       " 'https://egotickets.com/events/naked-hennessy',\n",
       " 'https://egotickets.com/events/women-of-valour-official-lunch',\n",
       " 'https://egotickets.com/events/sip-and-paint-happening-every-thursday-35009',\n",
       " 'https://egotickets.com/events/roots-culture-every-thursday',\n",
       " 'https://egotickets.com/events/live-sessions-featuring-brymo',\n",
       " 'https://egotickets.com/events/hot-tub-thursdays-9a183e39',\n",
       " 'https://egotickets.com/events/games-night-e74d1085',\n",
       " 'https://egotickets.com/events/karoake-party']"
      ]
     },
     "execution_count": 38,
     "metadata": {},
     "output_type": "execute_result"
    }
   ],
   "source": [
    "get_event_details_url()"
   ]
  },
  {
   "cell_type": "markdown",
   "metadata": {},
   "source": [
    "## Event Date Time Venue"
   ]
  },
  {
   "cell_type": "code",
   "execution_count": 39,
   "metadata": {},
   "outputs": [],
   "source": [
    "response_event_link = requests.get('https://egotickets.com/events/white-on-jeans-5db9be66')"
   ]
  },
  {
   "cell_type": "code",
   "execution_count": 40,
   "metadata": {},
   "outputs": [],
   "source": [
    "doc_event_link = BeautifulSoup(response_event_link.text, 'html.parser')"
   ]
  },
  {
   "cell_type": "code",
   "execution_count": 41,
   "metadata": {},
   "outputs": [],
   "source": [
    "doc_event_link.status_code"
   ]
  },
  {
   "cell_type": "code",
   "execution_count": 42,
   "metadata": {},
   "outputs": [
    {
     "data": {
      "text/plain": [
       "3595"
      ]
     },
     "execution_count": 42,
     "metadata": {},
     "output_type": "execute_result"
    }
   ],
   "source": [
    "len(doc_event_link.text)"
   ]
  },
  {
   "cell_type": "code",
   "execution_count": 43,
   "metadata": {},
   "outputs": [],
   "source": [
    "date_tags = doc_event_link.find_all('div', {'class': \"foot-note uk-margin-small ego-white-text\"})"
   ]
  },
  {
   "cell_type": "code",
   "execution_count": 44,
   "metadata": {},
   "outputs": [],
   "source": [
    "events_datetime = []\n",
    "events_new_venue = []\n",
    "for i in range(0,2):\n",
    "    if i == 0:\n",
    "        date_time = date_tags[i].text\n",
    "        events_datetime.append(date_time)\n",
    "    else:\n",
    "        new_venue = date_tags[i].text\n",
    "        events_new_venue.append(new_venue)"
   ]
  },
  {
   "cell_type": "code",
   "execution_count": 45,
   "metadata": {},
   "outputs": [
    {
     "data": {
      "text/plain": [
       "<div class=\"foot-note uk-margin-small ego-white-text\"><span class=\"uk-margin-right uk-visible@s\" uk-icon=\"calendar\"></span>Sat, Jan 27. 12AM - 8PM</div>"
      ]
     },
     "execution_count": 45,
     "metadata": {},
     "output_type": "execute_result"
    }
   ],
   "source": [
    "date_tags[0]"
   ]
  },
  {
   "cell_type": "code",
   "execution_count": 46,
   "metadata": {},
   "outputs": [
    {
     "data": {
      "text/plain": [
       "<div class=\"foot-note uk-margin-small ego-white-text\"><span class=\"uk-margin-right uk-visible@s\" uk-icon=\"location\"></span>KRUNA The Club, Accra</div>"
      ]
     },
     "execution_count": 46,
     "metadata": {},
     "output_type": "execute_result"
    }
   ],
   "source": [
    "date_tags[1]"
   ]
  },
  {
   "cell_type": "code",
   "execution_count": 47,
   "metadata": {},
   "outputs": [
    {
     "data": {
      "text/plain": [
       "['KRUNA The Club, Accra']"
      ]
     },
     "execution_count": 47,
     "metadata": {},
     "output_type": "execute_result"
    }
   ],
   "source": [
    "events_new_venue"
   ]
  },
  {
   "cell_type": "code",
   "execution_count": 48,
   "metadata": {},
   "outputs": [
    {
     "data": {
      "text/plain": [
       "['Sat, Jan 27. 12AM - 8PM']"
      ]
     },
     "execution_count": 48,
     "metadata": {},
     "output_type": "execute_result"
    }
   ],
   "source": [
    "events_datetime"
   ]
  },
  {
   "cell_type": "code",
   "execution_count": 49,
   "metadata": {},
   "outputs": [],
   "source": [
    "def get_event_detail_doc():\n",
    "    get_event_details_url()\n",
    "    docs = []\n",
    "    for i in range(0,20):\n",
    "        url = events_details_url[i]\n",
    "        response = requests.get(url)\n",
    "        if response .status_code != 200:\n",
    "            raise Exception('Failed to load page: {}'.format(events_url))\n",
    "        doc = BeautifulSoup(response.text, 'html.parser')\n",
    "        docs.append(doc)"
   ]
  },
  {
   "cell_type": "code",
   "execution_count": 50,
   "metadata": {},
   "outputs": [],
   "source": [
    "def get_event_details(doc):\n",
    "    date_tags = doc.find_all('div', {'class': \"foot-note uk-margin-small ego-white-text\"})\n",
    "    date_time = date_tags[0].text\n",
    "    new_venue = date_tags[1].text\n",
    "    return date_time, new_venue"
   ]
  },
  {
   "cell_type": "code",
   "execution_count": 51,
   "metadata": {},
   "outputs": [
    {
     "data": {
      "text/plain": [
       "['Sat, Jan 27. 12AM - 8PM']"
      ]
     },
     "execution_count": 51,
     "metadata": {},
     "output_type": "execute_result"
    }
   ],
   "source": [
    "events_datetime"
   ]
  },
  {
   "cell_type": "code",
   "execution_count": 52,
   "metadata": {},
   "outputs": [],
   "source": [
    "get_event_detail_doc()"
   ]
  },
  {
   "cell_type": "code",
   "execution_count": 53,
   "metadata": {},
   "outputs": [],
   "source": [
    "def get_events_lists():\n",
    "    get_event_details_url()\n",
    "    docs = []\n",
    "    for i in range(0,20):\n",
    "        url = events_details_url[i]\n",
    "        response = requests.get(url)\n",
    "        if response .status_code != 200:\n",
    "            raise Exception('Failed to load page: {}'.format(events_url))\n",
    "        doc = BeautifulSoup(response.text, 'html.parser')\n",
    "        docs.append(doc)\n",
    "        \n",
    "    date_time = []\n",
    "    new_venue = []\n",
    "    for i in range(0,20):\n",
    "        date_tags = docs[i].find_all('div', {'class': \"foot-note uk-margin-small ego-white-text\"})\n",
    "        date_time.append(date_tags[0].text)\n",
    "        new_venue.append(date_tags[1].text)\n",
    "    events_dict = {'Date and Time': date_time,\n",
    "                  'Locatiion and Venue': new_venue}\n",
    "    import pandas as pd\n",
    "    events_df = pd.DataFrame(events_dict)\n",
    "    return events_df"
   ]
  },
  {
   "cell_type": "code",
   "execution_count": 54,
   "metadata": {},
   "outputs": [
    {
     "data": {
      "text/html": [
       "<div>\n",
       "<style scoped>\n",
       "    .dataframe tbody tr th:only-of-type {\n",
       "        vertical-align: middle;\n",
       "    }\n",
       "\n",
       "    .dataframe tbody tr th {\n",
       "        vertical-align: top;\n",
       "    }\n",
       "\n",
       "    .dataframe thead th {\n",
       "        text-align: right;\n",
       "    }\n",
       "</style>\n",
       "<table border=\"1\" class=\"dataframe\">\n",
       "  <thead>\n",
       "    <tr style=\"text-align: right;\">\n",
       "      <th></th>\n",
       "      <th>Date and Time</th>\n",
       "      <th>Locatiion and Venue</th>\n",
       "    </tr>\n",
       "  </thead>\n",
       "  <tbody>\n",
       "    <tr>\n",
       "      <th>0</th>\n",
       "      <td>Mon, Feb 5. 8AM - Fri 10PM</td>\n",
       "      <td>Ghana, Accra</td>\n",
       "    </tr>\n",
       "    <tr>\n",
       "      <th>1</th>\n",
       "      <td>Mon, Feb 5. 9:30AM - Thu 3:30PM</td>\n",
       "      <td>University of Ghana, Accra</td>\n",
       "    </tr>\n",
       "    <tr>\n",
       "      <th>2</th>\n",
       "      <td>Mon, Feb 5. 5PM - Thu 8PM</td>\n",
       "      <td>Nouveau Accra, Accra</td>\n",
       "    </tr>\n",
       "    <tr>\n",
       "      <th>3</th>\n",
       "      <td>Mon, Feb 5. 6PM - 9PM</td>\n",
       "      <td>Spintex, Accra,Accra, Ghana, Accra</td>\n",
       "    </tr>\n",
       "    <tr>\n",
       "      <th>4</th>\n",
       "      <td>Tue, Feb 6. 5PM - 7PM</td>\n",
       "      <td>Lupita Ghana, Accra</td>\n",
       "    </tr>\n",
       "    <tr>\n",
       "      <th>5</th>\n",
       "      <td>Tue, Feb 6. 7PM - Tue 10PM</td>\n",
       "      <td>Mtn Ghana East Legon Branch, Accra</td>\n",
       "    </tr>\n",
       "    <tr>\n",
       "      <th>6</th>\n",
       "      <td>Wed, Feb 7. 10AM - Thu 12AM</td>\n",
       "      <td>Offline Lounge, Accra</td>\n",
       "    </tr>\n",
       "    <tr>\n",
       "      <th>7</th>\n",
       "      <td>Wed, Feb 7. 5PM - 10PM</td>\n",
       "      <td>Sixteen Hundred Bar &amp; Lounge, Accra</td>\n",
       "    </tr>\n",
       "    <tr>\n",
       "      <th>8</th>\n",
       "      <td>Wed, Feb 7. 7PM - Wed 10PM</td>\n",
       "      <td>Laboma Beach, Accra</td>\n",
       "    </tr>\n",
       "    <tr>\n",
       "      <th>9</th>\n",
       "      <td>Wed, Feb 7. 7PM - Wed 10PM</td>\n",
       "      <td>355 Restaurant and Lounge, Labone - Accra, Accra</td>\n",
       "    </tr>\n",
       "    <tr>\n",
       "      <th>10</th>\n",
       "      <td>Wed, Feb 7. 7PM - 9PM</td>\n",
       "      <td>Junction 5 Lounge, Adenta Municipality</td>\n",
       "    </tr>\n",
       "    <tr>\n",
       "      <th>11</th>\n",
       "      <td>Wed, Feb 7. 7PM - 11:30PM</td>\n",
       "      <td>Krom Pub, Tema</td>\n",
       "    </tr>\n",
       "    <tr>\n",
       "      <th>12</th>\n",
       "      <td>Wed, Feb 7. 7PM - Thu 1:45AM</td>\n",
       "      <td>Signature Lounge, Tema</td>\n",
       "    </tr>\n",
       "    <tr>\n",
       "      <th>13</th>\n",
       "      <td>Thu, Feb 8. 5PM - 8PM</td>\n",
       "      <td>Accra, Accra</td>\n",
       "    </tr>\n",
       "    <tr>\n",
       "      <th>14</th>\n",
       "      <td>Thu, Feb 8. 6:45PM - 11:45PM</td>\n",
       "      <td>Grind &amp; Aroma, Adenta Municipality</td>\n",
       "    </tr>\n",
       "    <tr>\n",
       "      <th>15</th>\n",
       "      <td>Thu, Feb 8. 7PM - 11:30PM</td>\n",
       "      <td>Monte Carlo, Tema</td>\n",
       "    </tr>\n",
       "    <tr>\n",
       "      <th>16</th>\n",
       "      <td>Thu, Feb 8. 8PM - 10PM</td>\n",
       "      <td>Rooftop Lekki Chinese Restaurant, Lekki</td>\n",
       "    </tr>\n",
       "    <tr>\n",
       "      <th>17</th>\n",
       "      <td>Thu, Feb 8. 8PM - 10PM</td>\n",
       "      <td>Hermanos Jungle, Accra</td>\n",
       "    </tr>\n",
       "    <tr>\n",
       "      <th>18</th>\n",
       "      <td>Thu, Feb 8. 8PM - Fri 2AM</td>\n",
       "      <td>BIG LEAGUES SPORTS AND GAMES LOUNGE, Accra</td>\n",
       "    </tr>\n",
       "    <tr>\n",
       "      <th>19</th>\n",
       "      <td>Thu, Feb 8. 8PM - Fri 12AM</td>\n",
       "      <td>THE WOODS, Accra</td>\n",
       "    </tr>\n",
       "  </tbody>\n",
       "</table>\n",
       "</div>"
      ],
      "text/plain": [
       "                      Date and Time  \\\n",
       "0        Mon, Feb 5. 8AM - Fri 10PM   \n",
       "1   Mon, Feb 5. 9:30AM - Thu 3:30PM   \n",
       "2         Mon, Feb 5. 5PM - Thu 8PM   \n",
       "3             Mon, Feb 5. 6PM - 9PM   \n",
       "4             Tue, Feb 6. 5PM - 7PM   \n",
       "5        Tue, Feb 6. 7PM - Tue 10PM   \n",
       "6       Wed, Feb 7. 10AM - Thu 12AM   \n",
       "7            Wed, Feb 7. 5PM - 10PM   \n",
       "8        Wed, Feb 7. 7PM - Wed 10PM   \n",
       "9        Wed, Feb 7. 7PM - Wed 10PM   \n",
       "10            Wed, Feb 7. 7PM - 9PM   \n",
       "11        Wed, Feb 7. 7PM - 11:30PM   \n",
       "12     Wed, Feb 7. 7PM - Thu 1:45AM   \n",
       "13            Thu, Feb 8. 5PM - 8PM   \n",
       "14     Thu, Feb 8. 6:45PM - 11:45PM   \n",
       "15        Thu, Feb 8. 7PM - 11:30PM   \n",
       "16           Thu, Feb 8. 8PM - 10PM   \n",
       "17           Thu, Feb 8. 8PM - 10PM   \n",
       "18        Thu, Feb 8. 8PM - Fri 2AM   \n",
       "19       Thu, Feb 8. 8PM - Fri 12AM   \n",
       "\n",
       "                                 Locatiion and Venue  \n",
       "0                                       Ghana, Accra  \n",
       "1                         University of Ghana, Accra  \n",
       "2                               Nouveau Accra, Accra  \n",
       "3                 Spintex, Accra,Accra, Ghana, Accra  \n",
       "4                                Lupita Ghana, Accra  \n",
       "5                 Mtn Ghana East Legon Branch, Accra  \n",
       "6                              Offline Lounge, Accra  \n",
       "7                Sixteen Hundred Bar & Lounge, Accra  \n",
       "8                                Laboma Beach, Accra  \n",
       "9   355 Restaurant and Lounge, Labone - Accra, Accra  \n",
       "10            Junction 5 Lounge, Adenta Municipality  \n",
       "11                                    Krom Pub, Tema  \n",
       "12                            Signature Lounge, Tema  \n",
       "13                                      Accra, Accra  \n",
       "14                Grind & Aroma, Adenta Municipality  \n",
       "15                                 Monte Carlo, Tema  \n",
       "16           Rooftop Lekki Chinese Restaurant, Lekki  \n",
       "17                            Hermanos Jungle, Accra  \n",
       "18        BIG LEAGUES SPORTS AND GAMES LOUNGE, Accra  \n",
       "19                                  THE WOODS, Accra  "
      ]
     },
     "execution_count": 54,
     "metadata": {},
     "output_type": "execute_result"
    }
   ],
   "source": [
    "get_events_lists()"
   ]
  },
  {
   "cell_type": "code",
   "execution_count": 55,
   "metadata": {},
   "outputs": [],
   "source": [
    "import requests \n",
    "from bs4 import BeautifulSoup\n",
    "\n",
    "def get_events():\n",
    "    events_url = 'https://egotickets.com/events'\n",
    "    response = requests.get(events_url)\n",
    "    if response.status_code != 200:\n",
    "        raise Exception('Failed to load page: {}'.format(events_url))\n",
    "    doc = BeautifulSoup(response.text, 'html.parser')\n",
    "    get_event_names()\n",
    "    get_event_venues()\n",
    "    get_event_details_url()\n",
    "    events_dict = {\n",
    "    'Event Name' : events_names,\n",
    "    'Event Venue' : events_venues,\n",
    "    'Event Details Url': events_details_url}\n",
    "    import pandas as pd\n",
    "    events1_df = pd.DataFrame(events_dict)\n",
    "    return events1_df \n",
    "\n",
    "def get_event_names():\n",
    "    h3_tags = doc.find_all('h3', {'class': \"title uk-text-nowrap uk-text-truncate\"})\n",
    "    events_names = []\n",
    "    for i in range(0,20):\n",
    "        event_name = h3_tags[i].text\n",
    "        events_names.append(event_name)\n",
    "        \n",
    "def get_event_venues():\n",
    "    div_tags = doc.find_all('div', {'class' : \"venue\"})\n",
    "    events_venues = []\n",
    "    for i in range(0,20):\n",
    "        event_venue = div_tags[i].text.strip()\n",
    "        events_venues.append(event_venue)\n",
    "    return events_venues\n",
    "def get_event_details_url():\n",
    "    base_url = 'https://egotickets.com'\n",
    "    events_details_url = []\n",
    "    for i in range(0,20):\n",
    "        a_tag = h3_tags[i].find_all('a')\n",
    "        event_details = base_url + a_tag[0]['href']\n",
    "        events_details_url.append(event_details)\n",
    "    return events_details_url\n",
    "    \n",
    "def get_events_df():\n",
    "    get_event_details_url()\n",
    "    docs = []\n",
    "    for i in range(0,20):\n",
    "        url = events_details_url[i]\n",
    "        response = requests.get(url)\n",
    "        if response .status_code != 200:\n",
    "            raise Exception('Failed to load page: {}'.format(events_url))\n",
    "        doc = BeautifulSoup(response.text, 'html.parser')\n",
    "        docs.append(doc)\n",
    "        \n",
    "    date_time = []\n",
    "    new_venue = []\n",
    "    for i in range(0,20):\n",
    "        date_tags = docs[i].find_all('div', {'class': \"foot-note uk-margin-small ego-white-text\"})\n",
    "        date_time.append(date_tags[0].text)\n",
    "        new_venue.append(date_tags[1].text)\n",
    "    events_dict = {'Date and Time': date_time,\n",
    "                  'Locatiion and Venue': new_venue}\n",
    "    import pandas as pd\n",
    "    events2_df = pd.DataFrame(events_dict)\n",
    "    return events2_df"
   ]
  },
  {
   "cell_type": "code",
   "execution_count": 57,
   "metadata": {},
   "outputs": [],
   "source": [
    "df_2 = get_events_df()"
   ]
  },
  {
   "cell_type": "code",
   "execution_count": 59,
   "metadata": {},
   "outputs": [],
   "source": [
    "df_events = pd.concat([df, df_2], axis = 1)"
   ]
  },
  {
   "cell_type": "code",
   "execution_count": 60,
   "metadata": {},
   "outputs": [
    {
     "data": {
      "text/html": [
       "<div>\n",
       "<style scoped>\n",
       "    .dataframe tbody tr th:only-of-type {\n",
       "        vertical-align: middle;\n",
       "    }\n",
       "\n",
       "    .dataframe tbody tr th {\n",
       "        vertical-align: top;\n",
       "    }\n",
       "\n",
       "    .dataframe thead th {\n",
       "        text-align: right;\n",
       "    }\n",
       "</style>\n",
       "<table border=\"1\" class=\"dataframe\">\n",
       "  <thead>\n",
       "    <tr style=\"text-align: right;\">\n",
       "      <th></th>\n",
       "      <th>Event Name</th>\n",
       "      <th>Event Venue</th>\n",
       "      <th>Event Details Url</th>\n",
       "      <th>Date and Time</th>\n",
       "      <th>Locatiion and Venue</th>\n",
       "    </tr>\n",
       "  </thead>\n",
       "  <tbody>\n",
       "    <tr>\n",
       "      <th>0</th>\n",
       "      <td>Naturopathic Clinician Training - Ghana</td>\n",
       "      <td>Ghana</td>\n",
       "      <td>https://egotickets.com/events/naturopathic-cli...</td>\n",
       "      <td>Mon, Feb 5. 8AM - Fri 10PM</td>\n",
       "      <td>Ghana, Accra</td>\n",
       "    </tr>\n",
       "    <tr>\n",
       "      <th>1</th>\n",
       "      <td>Reflecting, Re-Engaging and Re-Imagining Highe...</td>\n",
       "      <td>University of Ghana</td>\n",
       "      <td>https://egotickets.com/events/reflecting-re-en...</td>\n",
       "      <td>Mon, Feb 5. 9:30AM - Thu 3:30PM</td>\n",
       "      <td>University of Ghana, Accra</td>\n",
       "    </tr>\n",
       "    <tr>\n",
       "      <th>2</th>\n",
       "      <td>HAPPY HOUR NOUVEAU</td>\n",
       "      <td>Nouveau Accra</td>\n",
       "      <td>https://egotickets.com/events/happy-hour-nouveau</td>\n",
       "      <td>Mon, Feb 5. 5PM - Thu 8PM</td>\n",
       "      <td>Nouveau Accra, Accra</td>\n",
       "    </tr>\n",
       "    <tr>\n",
       "      <th>3</th>\n",
       "      <td>Apostolic Invasion</td>\n",
       "      <td>Spintex, Accra,Accra, Ghana</td>\n",
       "      <td>https://egotickets.com/events/apostolic-invasion</td>\n",
       "      <td>Mon, Feb 5. 6PM - 9PM</td>\n",
       "      <td>Spintex, Accra,Accra, Ghana, Accra</td>\n",
       "    </tr>\n",
       "    <tr>\n",
       "      <th>4</th>\n",
       "      <td>Happy Hour</td>\n",
       "      <td>Lupita Ghana</td>\n",
       "      <td>https://egotickets.com/events/happy-hour-35189</td>\n",
       "      <td>Tue, Feb 6. 5PM - 7PM</td>\n",
       "      <td>Lupita Ghana, Accra</td>\n",
       "    </tr>\n",
       "    <tr>\n",
       "      <th>5</th>\n",
       "      <td>LADIES NIGHT.</td>\n",
       "      <td>Mtn Ghana East Legon Branch</td>\n",
       "      <td>https://egotickets.com/events/ladies-night-bc7...</td>\n",
       "      <td>Tue, Feb 6. 7PM - Tue 10PM</td>\n",
       "      <td>Mtn Ghana East Legon Branch, Accra</td>\n",
       "    </tr>\n",
       "    <tr>\n",
       "      <th>6</th>\n",
       "      <td>SPLASH BASH</td>\n",
       "      <td>Offline Lounge</td>\n",
       "      <td>https://egotickets.com/events/splash-bash</td>\n",
       "      <td>Wed, Feb 7. 10AM - Thu 12AM</td>\n",
       "      <td>Offline Lounge, Accra</td>\n",
       "    </tr>\n",
       "    <tr>\n",
       "      <th>7</th>\n",
       "      <td>Clock out wednesday</td>\n",
       "      <td>Sixteen Hundred Bar &amp; Lounge</td>\n",
       "      <td>https://egotickets.com/events/clock-out-wednesday</td>\n",
       "      <td>Wed, Feb 7. 5PM - 10PM</td>\n",
       "      <td>Sixteen Hundred Bar &amp; Lounge, Accra</td>\n",
       "    </tr>\n",
       "    <tr>\n",
       "      <th>8</th>\n",
       "      <td>One Love Wednesday</td>\n",
       "      <td>Laboma Beach</td>\n",
       "      <td>https://egotickets.com/events/one-love-wednesday</td>\n",
       "      <td>Wed, Feb 7. 7PM - Wed 10PM</td>\n",
       "      <td>Laboma Beach, Accra</td>\n",
       "    </tr>\n",
       "    <tr>\n",
       "      <th>9</th>\n",
       "      <td>Y2K (Anight of Rhythms)</td>\n",
       "      <td>355 Restaurant and Lounge, Labone - A...</td>\n",
       "      <td>https://egotickets.com/events/y2k-anight-of-rh...</td>\n",
       "      <td>Wed, Feb 7. 7PM - Wed 10PM</td>\n",
       "      <td>355 Restaurant and Lounge, Labone - Accra, Accra</td>\n",
       "    </tr>\n",
       "    <tr>\n",
       "      <th>10</th>\n",
       "      <td>Games Night</td>\n",
       "      <td>Junction 5 Lounge</td>\n",
       "      <td>https://egotickets.com/events/games-night-36464</td>\n",
       "      <td>Wed, Feb 7. 7PM - 9PM</td>\n",
       "      <td>Junction 5 Lounge, Adenta Municipality</td>\n",
       "    </tr>\n",
       "    <tr>\n",
       "      <th>11</th>\n",
       "      <td>Karoake Night</td>\n",
       "      <td>Krom Pub</td>\n",
       "      <td>https://egotickets.com/events/karoake-night-35473</td>\n",
       "      <td>Wed, Feb 7. 7PM - 11:30PM</td>\n",
       "      <td>Krom Pub, Tema</td>\n",
       "    </tr>\n",
       "    <tr>\n",
       "      <th>12</th>\n",
       "      <td>Naked Hennessy</td>\n",
       "      <td>Signature Lounge</td>\n",
       "      <td>https://egotickets.com/events/naked-hennessy</td>\n",
       "      <td>Wed, Feb 7. 7PM - Thu 1:45AM</td>\n",
       "      <td>Signature Lounge, Tema</td>\n",
       "    </tr>\n",
       "    <tr>\n",
       "      <th>13</th>\n",
       "      <td>WOMEN OF VALOUR OFFICIAL LUNCH</td>\n",
       "      <td>Accra</td>\n",
       "      <td>https://egotickets.com/events/women-of-valour-...</td>\n",
       "      <td>Thu, Feb 8. 5PM - 8PM</td>\n",
       "      <td>Accra, Accra</td>\n",
       "    </tr>\n",
       "    <tr>\n",
       "      <th>14</th>\n",
       "      <td>SIP AND PAINT (HAPPENING EVERY THURSDAY)</td>\n",
       "      <td>Grind &amp; Aroma</td>\n",
       "      <td>https://egotickets.com/events/sip-and-paint-ha...</td>\n",
       "      <td>Thu, Feb 8. 6:45PM - 11:45PM</td>\n",
       "      <td>Grind &amp; Aroma, Adenta Municipality</td>\n",
       "    </tr>\n",
       "    <tr>\n",
       "      <th>15</th>\n",
       "      <td>Roots &amp; Culture (Every Thursday)</td>\n",
       "      <td>Monte Carlo</td>\n",
       "      <td>https://egotickets.com/events/roots-culture-ev...</td>\n",
       "      <td>Thu, Feb 8. 7PM - 11:30PM</td>\n",
       "      <td>Monte Carlo, Tema</td>\n",
       "    </tr>\n",
       "    <tr>\n",
       "      <th>16</th>\n",
       "      <td>Live Sessions Featuring BRYMO</td>\n",
       "      <td>Rooftop Lekki Chinese Restaurant</td>\n",
       "      <td>https://egotickets.com/events/live-sessions-fe...</td>\n",
       "      <td>Thu, Feb 8. 8PM - 10PM</td>\n",
       "      <td>Rooftop Lekki Chinese Restaurant, Lekki</td>\n",
       "    </tr>\n",
       "    <tr>\n",
       "      <th>17</th>\n",
       "      <td>HOT TUB THURSDAYS</td>\n",
       "      <td>Hermanos Jungle</td>\n",
       "      <td>https://egotickets.com/events/hot-tub-thursday...</td>\n",
       "      <td>Thu, Feb 8. 8PM - 10PM</td>\n",
       "      <td>Hermanos Jungle, Accra</td>\n",
       "    </tr>\n",
       "    <tr>\n",
       "      <th>18</th>\n",
       "      <td>GAMES NIGHT</td>\n",
       "      <td>BIG LEAGUES SPORTS AND GAMES LOUNGE</td>\n",
       "      <td>https://egotickets.com/events/games-night-e74d...</td>\n",
       "      <td>Thu, Feb 8. 8PM - Fri 2AM</td>\n",
       "      <td>BIG LEAGUES SPORTS AND GAMES LOUNGE, Accra</td>\n",
       "    </tr>\n",
       "    <tr>\n",
       "      <th>19</th>\n",
       "      <td>Karoake Party</td>\n",
       "      <td>THE WOODS</td>\n",
       "      <td>https://egotickets.com/events/karoake-party</td>\n",
       "      <td>Thu, Feb 8. 8PM - Fri 12AM</td>\n",
       "      <td>THE WOODS, Accra</td>\n",
       "    </tr>\n",
       "  </tbody>\n",
       "</table>\n",
       "</div>"
      ],
      "text/plain": [
       "                                           Event Name  \\\n",
       "0             Naturopathic Clinician Training - Ghana   \n",
       "1   Reflecting, Re-Engaging and Re-Imagining Highe...   \n",
       "2                                  HAPPY HOUR NOUVEAU   \n",
       "3                                  Apostolic Invasion   \n",
       "4                                          Happy Hour   \n",
       "5                                       LADIES NIGHT.   \n",
       "6                                         SPLASH BASH   \n",
       "7                                 Clock out wednesday   \n",
       "8                                  One Love Wednesday   \n",
       "9                             Y2K (Anight of Rhythms)   \n",
       "10                                        Games Night   \n",
       "11                                      Karoake Night   \n",
       "12                                     Naked Hennessy   \n",
       "13                     WOMEN OF VALOUR OFFICIAL LUNCH   \n",
       "14           SIP AND PAINT (HAPPENING EVERY THURSDAY)   \n",
       "15                   Roots & Culture (Every Thursday)   \n",
       "16                      Live Sessions Featuring BRYMO   \n",
       "17                                  HOT TUB THURSDAYS   \n",
       "18                                        GAMES NIGHT   \n",
       "19                                      Karoake Party   \n",
       "\n",
       "                                 Event Venue  \\\n",
       "0                                      Ghana   \n",
       "1                        University of Ghana   \n",
       "2                              Nouveau Accra   \n",
       "3                Spintex, Accra,Accra, Ghana   \n",
       "4                               Lupita Ghana   \n",
       "5                Mtn Ghana East Legon Branch   \n",
       "6                             Offline Lounge   \n",
       "7               Sixteen Hundred Bar & Lounge   \n",
       "8                               Laboma Beach   \n",
       "9   355 Restaurant and Lounge, Labone - A...   \n",
       "10                         Junction 5 Lounge   \n",
       "11                                  Krom Pub   \n",
       "12                          Signature Lounge   \n",
       "13                                     Accra   \n",
       "14                             Grind & Aroma   \n",
       "15                               Monte Carlo   \n",
       "16          Rooftop Lekki Chinese Restaurant   \n",
       "17                           Hermanos Jungle   \n",
       "18       BIG LEAGUES SPORTS AND GAMES LOUNGE   \n",
       "19                                 THE WOODS   \n",
       "\n",
       "                                    Event Details Url  \\\n",
       "0   https://egotickets.com/events/naturopathic-cli...   \n",
       "1   https://egotickets.com/events/reflecting-re-en...   \n",
       "2    https://egotickets.com/events/happy-hour-nouveau   \n",
       "3    https://egotickets.com/events/apostolic-invasion   \n",
       "4      https://egotickets.com/events/happy-hour-35189   \n",
       "5   https://egotickets.com/events/ladies-night-bc7...   \n",
       "6           https://egotickets.com/events/splash-bash   \n",
       "7   https://egotickets.com/events/clock-out-wednesday   \n",
       "8    https://egotickets.com/events/one-love-wednesday   \n",
       "9   https://egotickets.com/events/y2k-anight-of-rh...   \n",
       "10    https://egotickets.com/events/games-night-36464   \n",
       "11  https://egotickets.com/events/karoake-night-35473   \n",
       "12       https://egotickets.com/events/naked-hennessy   \n",
       "13  https://egotickets.com/events/women-of-valour-...   \n",
       "14  https://egotickets.com/events/sip-and-paint-ha...   \n",
       "15  https://egotickets.com/events/roots-culture-ev...   \n",
       "16  https://egotickets.com/events/live-sessions-fe...   \n",
       "17  https://egotickets.com/events/hot-tub-thursday...   \n",
       "18  https://egotickets.com/events/games-night-e74d...   \n",
       "19        https://egotickets.com/events/karoake-party   \n",
       "\n",
       "                      Date and Time  \\\n",
       "0        Mon, Feb 5. 8AM - Fri 10PM   \n",
       "1   Mon, Feb 5. 9:30AM - Thu 3:30PM   \n",
       "2         Mon, Feb 5. 5PM - Thu 8PM   \n",
       "3             Mon, Feb 5. 6PM - 9PM   \n",
       "4             Tue, Feb 6. 5PM - 7PM   \n",
       "5        Tue, Feb 6. 7PM - Tue 10PM   \n",
       "6       Wed, Feb 7. 10AM - Thu 12AM   \n",
       "7            Wed, Feb 7. 5PM - 10PM   \n",
       "8        Wed, Feb 7. 7PM - Wed 10PM   \n",
       "9        Wed, Feb 7. 7PM - Wed 10PM   \n",
       "10            Wed, Feb 7. 7PM - 9PM   \n",
       "11        Wed, Feb 7. 7PM - 11:30PM   \n",
       "12     Wed, Feb 7. 7PM - Thu 1:45AM   \n",
       "13            Thu, Feb 8. 5PM - 8PM   \n",
       "14     Thu, Feb 8. 6:45PM - 11:45PM   \n",
       "15        Thu, Feb 8. 7PM - 11:30PM   \n",
       "16           Thu, Feb 8. 8PM - 10PM   \n",
       "17           Thu, Feb 8. 8PM - 10PM   \n",
       "18        Thu, Feb 8. 8PM - Fri 2AM   \n",
       "19       Thu, Feb 8. 8PM - Fri 12AM   \n",
       "\n",
       "                                 Locatiion and Venue  \n",
       "0                                       Ghana, Accra  \n",
       "1                         University of Ghana, Accra  \n",
       "2                               Nouveau Accra, Accra  \n",
       "3                 Spintex, Accra,Accra, Ghana, Accra  \n",
       "4                                Lupita Ghana, Accra  \n",
       "5                 Mtn Ghana East Legon Branch, Accra  \n",
       "6                              Offline Lounge, Accra  \n",
       "7                Sixteen Hundred Bar & Lounge, Accra  \n",
       "8                                Laboma Beach, Accra  \n",
       "9   355 Restaurant and Lounge, Labone - Accra, Accra  \n",
       "10            Junction 5 Lounge, Adenta Municipality  \n",
       "11                                    Krom Pub, Tema  \n",
       "12                            Signature Lounge, Tema  \n",
       "13                                      Accra, Accra  \n",
       "14                Grind & Aroma, Adenta Municipality  \n",
       "15                                 Monte Carlo, Tema  \n",
       "16           Rooftop Lekki Chinese Restaurant, Lekki  \n",
       "17                            Hermanos Jungle, Accra  \n",
       "18        BIG LEAGUES SPORTS AND GAMES LOUNGE, Accra  \n",
       "19                                  THE WOODS, Accra  "
      ]
     },
     "execution_count": 60,
     "metadata": {},
     "output_type": "execute_result"
    }
   ],
   "source": [
    "df_events"
   ]
  },
  {
   "cell_type": "code",
   "execution_count": null,
   "metadata": {},
   "outputs": [],
   "source": []
  },
  {
   "cell_type": "code",
   "execution_count": null,
   "metadata": {},
   "outputs": [],
   "source": []
  },
  {
   "cell_type": "code",
   "execution_count": null,
   "metadata": {},
   "outputs": [],
   "source": []
  }
 ],
 "metadata": {
  "language_info": {
   "codemirror_mode": {
    "name": "ipython",
    "version": 3
   },
   "file_extension": ".py",
   "mimetype": "text/x-python",
   "name": "python",
   "nbconvert_exporter": "python",
   "pygments_lexer": "ipython3",
   "version": "3.9.7"
  }
 },
 "nbformat": 4,
 "nbformat_minor": 2
}